{
 "cells": [
  {
   "cell_type": "code",
   "execution_count": 2,
   "metadata": {},
   "outputs": [],
   "source": [
    "import pandas as pd\n",
    "import numpy as np\n",
    "from sklearn.metrics import cohen_kappa_score\n",
    "\n",
    "assertion_roulette_df = pd.read_csv(\"dataset_more_experience/agreement_assertion_roulette.csv\")\n",
    "conditional_test_logic_df = pd.read_csv(\"dataset_more_experience/agreement_conditional_test_logic.csv\")\n",
    "duplicate_assert_df = pd.read_csv(\"dataset_more_experience/agreement_duplicate_assert.csv\")\n",
    "eager_test_df = pd.read_csv(\"dataset_more_experience/agreement_eager_test.csv\")\n",
    "exception_handling_df = pd.read_csv(\"dataset_more_experience/agreement_exception_handling.csv\")\n",
    "lazy_test_df = pd.read_csv(\"dataset_more_experience/agreement_lazy_test.csv\")\n",
    "mistery_guest_df = pd.read_csv(\"dataset_more_experience/agreement_mystery_guest.csv\")\n",
    "resource_optimism_df = pd.read_csv(\"dataset_more_experience/agreement_resource_optmism.csv\")\n",
    "sensitive_equality_df = pd.read_csv(\"dataset_more_experience/agreement_sensitive_equality.csv\")\n",
    "sleepy_test_df = pd.read_csv(\"dataset_more_experience/agreement_sleepy_test.csv\")"
   ]
  },
  {
   "cell_type": "code",
   "execution_count": 3,
   "metadata": {},
   "outputs": [],
   "source": [
    "values_assertion_roulette = []\n",
    "\n",
    "for index, row in assertion_roulette_df.iterrows():\n",
    "    values_assertion_roulette.append(row.values.tolist())\n",
    "\n",
    "values_conditional_test_logic = []\n",
    "\n",
    "for index, row in conditional_test_logic_df.iterrows():\n",
    "    values_conditional_test_logic.append(row.values.tolist())\n",
    "\n",
    "values_duplicate_assert = []\n",
    "\n",
    "for index, row in duplicate_assert_df.iterrows():\n",
    "    values_duplicate_assert.append(row.values.tolist())\n",
    "\n",
    "values_eager_test = []\n",
    "\n",
    "for index, row in eager_test_df.iterrows():\n",
    "    values_eager_test.append(row.values.tolist())\n",
    "\n",
    "values_exception_handling = []\n",
    "\n",
    "for index, row in exception_handling_df.iterrows():\n",
    "    values_exception_handling.append(row.values.tolist())\n",
    "\n",
    "values_lazy_test = []\n",
    "\n",
    "for index, row in lazy_test_df.iterrows():\n",
    "    values_lazy_test.append(row.values.tolist())\n",
    "\n",
    "values_mistery_guest = []\n",
    "\n",
    "for index, row in mistery_guest_df.iterrows():\n",
    "    values_mistery_guest.append(row.values.tolist())\n",
    "\n",
    "values_resource_optimism = []\n",
    "\n",
    "for index, row in resource_optimism_df.iterrows():\n",
    "    values_resource_optimism.append(row.values.tolist())\n",
    "\n",
    "values_sensitive_equality = []\n",
    "\n",
    "for index, row in sensitive_equality_df.iterrows():\n",
    "    values_sensitive_equality.append(row.values.tolist())\n",
    "\n",
    "values_sleepy_test = []\n",
    "\n",
    "for index, row in sleepy_test_df.iterrows():\n",
    "    values_sleepy_test.append(row.values.tolist())"
   ]
  },
  {
   "cell_type": "markdown",
   "metadata": {},
   "source": [
    "Grouping by Smell"
   ]
  },
  {
   "cell_type": "code",
   "execution_count": 4,
   "metadata": {},
   "outputs": [
    {
     "name": "stdout",
     "output_type": "stream",
     "text": [
      "Calculating for assertion roulette\n",
      "Kappa:  0.05982905982905987\n"
     ]
    }
   ],
   "source": [
    "print(\"Calculating for assertion roulette\")\n",
    "\n",
    "value = 0\n",
    "amount = 0\n",
    "\n",
    "for i in range(len(values_assertion_roulette)):\n",
    "    for y in range(len(values_assertion_roulette)):\n",
    "        if i != y:\n",
    "            score = cohen_kappa_score(values_assertion_roulette[i], values_assertion_roulette[y])\n",
    "            if str(score) != 'nan':\n",
    "                value += score\n",
    "                amount += 1\n",
    "\n",
    "print(\"Kappa: \", abs(value/amount))"
   ]
  },
  {
   "cell_type": "code",
   "execution_count": 5,
   "metadata": {},
   "outputs": [
    {
     "name": "stdout",
     "output_type": "stream",
     "text": [
      "Calculating for Conditional Test Logic\n",
      "Kappa:  0.02777777777777779\n"
     ]
    }
   ],
   "source": [
    "print(\"Calculating for Conditional Test Logic\")\n",
    "\n",
    "value = 0\n",
    "amount = 0\n",
    "\n",
    "for i in range(len(values_conditional_test_logic)):\n",
    "    for y in range(len(values_conditional_test_logic)):\n",
    "        if i != y:\n",
    "            score = cohen_kappa_score(values_conditional_test_logic[i], values_conditional_test_logic[y])\n",
    "            if str(score) != 'nan':\n",
    "                value += score\n",
    "                amount += 1\n",
    "\n",
    "print(\"Kappa: \", abs(value/amount))"
   ]
  },
  {
   "cell_type": "code",
   "execution_count": 6,
   "metadata": {},
   "outputs": [
    {
     "name": "stdout",
     "output_type": "stream",
     "text": [
      "Calculating for Duplicate Assert\n",
      "Kappa:  0.00548806479113384\n"
     ]
    }
   ],
   "source": [
    "print(\"Calculating for Duplicate Assert\")\n",
    "\n",
    "value = 0\n",
    "amount = 0\n",
    "\n",
    "for i in range(len(values_duplicate_assert)):\n",
    "    for y in range(len(values_duplicate_assert)):\n",
    "        if i != y:\n",
    "            score = cohen_kappa_score(values_duplicate_assert[i], values_duplicate_assert[y])\n",
    "            if str(score) != 'nan':\n",
    "                value += score\n",
    "                amount += 1\n",
    "\n",
    "print(\"Kappa: \", abs(value/amount))"
   ]
  },
  {
   "cell_type": "code",
   "execution_count": 7,
   "metadata": {},
   "outputs": [
    {
     "name": "stdout",
     "output_type": "stream",
     "text": [
      "Calculating for Eager Test\n",
      "Kappa:  0.051974856928417336\n"
     ]
    }
   ],
   "source": [
    "print(\"Calculating for Eager Test\")\n",
    "\n",
    "value = 0\n",
    "amount = 0\n",
    "\n",
    "for i in range(len(values_eager_test)):\n",
    "    for y in range(len(values_eager_test)):\n",
    "        if i != y:\n",
    "            score = cohen_kappa_score(values_eager_test[i], values_eager_test[y])\n",
    "            if str(score) != 'nan':\n",
    "                value += score\n",
    "                amount += 1\n",
    "\n",
    "print(\"Kappa: \", abs(value/amount))"
   ]
  },
  {
   "cell_type": "code",
   "execution_count": 8,
   "metadata": {},
   "outputs": [
    {
     "name": "stdout",
     "output_type": "stream",
     "text": [
      "Calculating for Exception Handling\n",
      "Kappa:  0.1810966810966811\n"
     ]
    }
   ],
   "source": [
    "print(\"Calculating for Exception Handling\")\n",
    "\n",
    "value = 0\n",
    "amount = 0\n",
    "\n",
    "for i in range(len(values_exception_handling)):\n",
    "    for y in range(len(values_exception_handling)):\n",
    "        if i != y:\n",
    "            score = cohen_kappa_score(values_exception_handling[i], values_exception_handling[y])\n",
    "            if str(score) != 'nan':\n",
    "                value += score\n",
    "                amount += 1\n",
    "\n",
    "print(\"Kappa: \", abs(value/amount))"
   ]
  },
  {
   "cell_type": "code",
   "execution_count": 9,
   "metadata": {},
   "outputs": [
    {
     "name": "stdout",
     "output_type": "stream",
     "text": [
      "Calculating for Lazy Test\n",
      "Kappa:  0.02378271882915839\n"
     ]
    }
   ],
   "source": [
    "print(\"Calculating for Lazy Test\")\n",
    "\n",
    "value = 0\n",
    "amount = 0\n",
    "\n",
    "for i in range(len(values_lazy_test)):\n",
    "    for y in range(len(values_lazy_test)):\n",
    "        if i != y:\n",
    "            score = cohen_kappa_score(values_lazy_test[i], values_lazy_test[y])\n",
    "            if str(score) != 'nan':\n",
    "                value += score\n",
    "                amount += 1\n",
    "\n",
    "print(\"Kappa: \", abs(value/amount))"
   ]
  },
  {
   "cell_type": "code",
   "execution_count": 10,
   "metadata": {},
   "outputs": [
    {
     "name": "stdout",
     "output_type": "stream",
     "text": [
      "Calculating for Mystery Guest\n",
      "Kappa:  0.16739766081871352\n"
     ]
    }
   ],
   "source": [
    "print(\"Calculating for Mystery Guest\")\n",
    "\n",
    "value = 0\n",
    "amount = 0\n",
    "\n",
    "for i in range(len(values_mistery_guest)):\n",
    "    for y in range(len(values_mistery_guest)):\n",
    "        if i != y:\n",
    "            score = cohen_kappa_score(values_mistery_guest[i], values_mistery_guest[y])\n",
    "            if str(score) != 'nan':\n",
    "                value += score\n",
    "                amount += 1\n",
    "\n",
    "print(\"Kappa: \", abs(value/amount))"
   ]
  },
  {
   "cell_type": "code",
   "execution_count": 11,
   "metadata": {},
   "outputs": [
    {
     "name": "stdout",
     "output_type": "stream",
     "text": [
      "Calculating for Resource Optimism\n",
      "Kappa:  0.006944444444444457\n"
     ]
    }
   ],
   "source": [
    "print(\"Calculating for Resource Optimism\")\n",
    "\n",
    "value = 0\n",
    "amount = 0\n",
    "\n",
    "for i in range(len(values_resource_optimism)):\n",
    "    for y in range(len(values_resource_optimism)):\n",
    "        if i != y:\n",
    "            score = cohen_kappa_score(values_resource_optimism[i], values_resource_optimism[y])\n",
    "            if str(score) != 'nan':\n",
    "                value += score\n",
    "                amount += 1\n",
    "\n",
    "print(\"Kappa: \", abs(value/amount))"
   ]
  },
  {
   "cell_type": "code",
   "execution_count": 12,
   "metadata": {},
   "outputs": [
    {
     "name": "stdout",
     "output_type": "stream",
     "text": [
      "Calculating for Sensitive Equality\n",
      "Kappa:  0.056286549707602385\n"
     ]
    }
   ],
   "source": [
    "print(\"Calculating for Sensitive Equality\")\n",
    "\n",
    "value = 0\n",
    "amount = 0\n",
    "\n",
    "for i in range(len(values_sensitive_equality)):\n",
    "    for y in range(len(values_sensitive_equality)):\n",
    "        if i != y:\n",
    "            score = cohen_kappa_score(values_sensitive_equality[i], values_sensitive_equality[y])\n",
    "            if str(score) != 'nan':\n",
    "                value += score\n",
    "                amount += 1\n",
    "\n",
    "print(\"Kappa: \", abs(value/amount))"
   ]
  },
  {
   "cell_type": "code",
   "execution_count": 13,
   "metadata": {},
   "outputs": [
    {
     "name": "stdout",
     "output_type": "stream",
     "text": [
      "Calculating for Sleepy Test\n",
      "Kappa:  0.04870872834259558\n"
     ]
    }
   ],
   "source": [
    "print(\"Calculating for Sleepy Test\")\n",
    "\n",
    "value = 0\n",
    "amount = 0\n",
    "\n",
    "for i in range(len(values_sleepy_test)):\n",
    "    for y in range(len(values_sleepy_test)):\n",
    "        if i != y:\n",
    "            score = cohen_kappa_score(values_sleepy_test[i], values_sleepy_test[y])\n",
    "            if str(score) != 'nan':\n",
    "                value += score\n",
    "                amount += 1\n",
    "\n",
    "print(\"Kappa: \", abs(value/amount))"
   ]
  }
 ],
 "metadata": {
  "kernelspec": {
   "display_name": "Python 3.9.11 64-bit ('3.9.11')",
   "language": "python",
   "name": "python3"
  },
  "language_info": {
   "codemirror_mode": {
    "name": "ipython",
    "version": 3
   },
   "file_extension": ".py",
   "mimetype": "text/x-python",
   "name": "python",
   "nbconvert_exporter": "python",
   "pygments_lexer": "ipython3",
   "version": "3.9.11"
  },
  "orig_nbformat": 4,
  "vscode": {
   "interpreter": {
    "hash": "260a6e4c4c29cfcb8bc04e964a6fbe054895ae3c3324fbca730b1db51756ed70"
   }
  }
 },
 "nbformat": 4,
 "nbformat_minor": 2
}

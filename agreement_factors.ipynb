{
 "cells": [
  {
   "cell_type": "code",
   "execution_count": 20,
   "metadata": {},
   "outputs": [],
   "source": [
    "import pandas as pd\n",
    "import numpy as np\n",
    "from sklearn.metrics import cohen_kappa_score\n",
    "\n",
    "assertion_roulette_df = pd.read_csv(\"dataset_factors/agreement_assertion_roulette.csv\")\n",
    "eager_test_df = pd.read_csv(\"dataset_factors/agreement_eager_test.csv\")\n",
    "exception_handling_df = pd.read_csv(\"dataset_factors/agreement_exception_handling.csv\")\n",
    "sensitive_equality_df = pd.read_csv(\"dataset_factors/agreement_sensitive_equality.csv\")"
   ]
  },
  {
   "cell_type": "code",
   "execution_count": 21,
   "metadata": {},
   "outputs": [],
   "source": [
    "values_assertion_roulette = []\n",
    "\n",
    "for index, row in assertion_roulette_df.iterrows():\n",
    "    values_assertion_roulette.append(row.values.tolist())\n",
    "\n",
    "values_eager_test = []\n",
    "\n",
    "for index, row in eager_test_df.iterrows():\n",
    "    values_eager_test.append(row.values.tolist())\n",
    "\n",
    "values_exception_handling = []\n",
    "\n",
    "for index, row in exception_handling_df.iterrows():\n",
    "    values_exception_handling.append(row.values.tolist())\n",
    "\n",
    "values_sensitive_equality = []\n",
    "\n",
    "for index, row in sensitive_equality_df.iterrows():\n",
    "    values_sensitive_equality.append(row.values.tolist())"
   ]
  },
  {
   "cell_type": "markdown",
   "metadata": {},
   "source": [
    "Grouping by Smell"
   ]
  },
  {
   "cell_type": "code",
   "execution_count": 22,
   "metadata": {},
   "outputs": [
    {
     "name": "stdout",
     "output_type": "stream",
     "text": [
      "Calculating for assertion roulette\n",
      "Kappa:  0.32193732193732194\n"
     ]
    }
   ],
   "source": [
    "print(\"Calculating for assertion roulette\")\n",
    "\n",
    "value = 0\n",
    "amount = 0\n",
    "\n",
    "for i in range(len(values_assertion_roulette)):\n",
    "    for y in range(len(values_assertion_roulette)):\n",
    "        if i != y:\n",
    "            score = cohen_kappa_score(values_assertion_roulette[i], values_assertion_roulette[y])\n",
    "            if str(score) != 'nan':\n",
    "                value += score\n",
    "                amount += 1\n",
    "\n",
    "print(\"Kappa: \", abs(value/amount))"
   ]
  },
  {
   "cell_type": "code",
   "execution_count": 23,
   "metadata": {},
   "outputs": [
    {
     "name": "stdout",
     "output_type": "stream",
     "text": [
      "Calculating for Eager Test\n",
      "Kappa:  0.11340852130325814\n"
     ]
    }
   ],
   "source": [
    "print(\"Calculating for Eager Test\")\n",
    "\n",
    "value = 0\n",
    "amount = 0\n",
    "\n",
    "for i in range(len(values_eager_test)):\n",
    "    for y in range(len(values_eager_test)):\n",
    "        if i != y:\n",
    "            score = cohen_kappa_score(values_eager_test[i], values_eager_test[y])\n",
    "            if str(score) != 'nan':\n",
    "                value += score\n",
    "                amount += 1\n",
    "\n",
    "print(\"Kappa: \", abs(value/amount))"
   ]
  },
  {
   "cell_type": "code",
   "execution_count": 24,
   "metadata": {},
   "outputs": [
    {
     "name": "stdout",
     "output_type": "stream",
     "text": [
      "Calculating for Exception Handling\n",
      "Kappa:  0.6296296296296297\n"
     ]
    }
   ],
   "source": [
    "print(\"Calculating for Exception Handling\")\n",
    "\n",
    "value = 0\n",
    "amount = 0\n",
    "\n",
    "for i in range(len(values_exception_handling)):\n",
    "    for y in range(len(values_exception_handling)):\n",
    "        if i != y:\n",
    "            score = cohen_kappa_score(values_exception_handling[i], values_exception_handling[y])\n",
    "            if str(score) != 'nan':\n",
    "                value += score\n",
    "                amount += 1\n",
    "\n",
    "print(\"Kappa: \", abs(value/amount))"
   ]
  },
  {
   "cell_type": "code",
   "execution_count": 25,
   "metadata": {},
   "outputs": [
    {
     "name": "stdout",
     "output_type": "stream",
     "text": [
      "Calculating for Sensitive Equality\n",
      "Kappa:  0.2142857142857143\n"
     ]
    }
   ],
   "source": [
    "print(\"Calculating for Sensitive Equality\")\n",
    "\n",
    "value = 0\n",
    "amount = 0\n",
    "\n",
    "for i in range(len(values_sensitive_equality)):\n",
    "    for y in range(len(values_sensitive_equality)):\n",
    "        if i != y:\n",
    "            score = cohen_kappa_score(values_sensitive_equality[i], values_sensitive_equality[y])\n",
    "            if str(score) != 'nan':\n",
    "                value += score\n",
    "                amount += 1\n",
    "\n",
    "print(\"Kappa: \", abs(value/amount))"
   ]
  }
 ],
 "metadata": {
  "kernelspec": {
   "display_name": "Python 3.9.11 64-bit ('3.9.11')",
   "language": "python",
   "name": "python3"
  },
  "language_info": {
   "codemirror_mode": {
    "name": "ipython",
    "version": 3
   },
   "file_extension": ".py",
   "mimetype": "text/x-python",
   "name": "python",
   "nbconvert_exporter": "python",
   "pygments_lexer": "ipython3",
   "version": "3.9.11"
  },
  "orig_nbformat": 4,
  "vscode": {
   "interpreter": {
    "hash": "260a6e4c4c29cfcb8bc04e964a6fbe054895ae3c3324fbca730b1db51756ed70"
   }
  }
 },
 "nbformat": 4,
 "nbformat_minor": 2
}
